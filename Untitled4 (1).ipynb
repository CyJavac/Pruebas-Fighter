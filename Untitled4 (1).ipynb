{
  "nbformat": 4,
  "nbformat_minor": 0,
  "metadata": {
    "colab": {
      "provenance": [],
      "collapsed_sections": []
    },
    "kernelspec": {
      "name": "python3",
      "display_name": "Python 3"
    },
    "language_info": {
      "name": "python"
    }
  },
  "cells": [
    {
      "cell_type": "markdown",
      "source": [
        "3 cursos\n",
        "n estudiante\n",
        "m cantidad de notas\n",
        "\n",
        "sacar promedio a todos los estudiantes, decir mejor y peor estudiante\n",
        "\n"
      ],
      "metadata": {
        "id": "qg0eWNspwMbr"
      }
    },
    {
      "cell_type": "code",
      "source": [
        "j=0\n",
        "h=0\n",
        "n=0\n",
        "m=0\n",
        "cursos=0\n",
        "promedio=0\n",
        "i=1\n",
        "\n",
        "prom_es_tot={}\n",
        "prom_es={}\n",
        "while cursos<1:#Cambiar al final\n",
        "  cursos+=1\n",
        "  n=int(input(f\"Número estudiantes del curso {cursos}: \"))\n",
        "  m=int(input(f\"Número de notas del curso {cursos}: \"))\n",
        "  while h<n:\n",
        "    h+=1\n",
        "    notas_n_es={}\n",
        "    print(\"Estudiante No. \",h)\n",
        "    for i in range (1,m+1):\n",
        "      \n",
        "      notas_n_es[f\"Estudiante {i}\"]=[(input(f\"Nota {i}: \"))]\n",
        "      \n",
        "      i+=1\n",
        "  promedio=notas_n_es.values()\n",
        "\n",
        "  prom_es=promedio\n",
        "  j+=1\n",
        "print(notas_n_es)\n",
        "print(promedio)\n",
        "\n"
      ],
      "metadata": {
        "colab": {
          "base_uri": "https://localhost:8080/"
        },
        "id": "3comVMKBwL3L",
        "outputId": "fff490f4-165d-4797-e589-1d2116206770"
      },
      "execution_count": 94,
      "outputs": [
        {
          "output_type": "stream",
          "name": "stdout",
          "text": [
            "Número estudiantes del curso 1: 1\n",
            "Número de notas del curso 1: 2\n",
            "Estudiante No.  1\n",
            "Nota 1: 1\n",
            "Nota 2: 2\n",
            "{'Estudiante 1': ['1'], 'Estudiante 2': ['2']}\n",
            "dict_values([['1'], ['2']])\n"
          ]
        }
      ]
    },
    {
      "cell_type": "code",
      "execution_count": null,
      "metadata": {
        "id": "iOxYnooUaRhz"
      },
      "outputs": [],
      "source": []
    }
  ]
}