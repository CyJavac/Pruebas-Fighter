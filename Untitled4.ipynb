{
  "nbformat": 4,
  "nbformat_minor": 0,
  "metadata": {
    "colab": {
      "provenance": [],
      "collapsed_sections": []
    },
    "kernelspec": {
      "name": "python3",
      "display_name": "Python 3"
    },
    "language_info": {
      "name": "python"
    }
  },
  "cells": [
    {
      "cell_type": "markdown",
      "source": [
        "3 cursos\n",
        "n estudiante\n",
        "m cantidad de notas\n",
        "\n",
        "sacar promedio a todos los estudiantes, decir mejor y peor estudiante\n",
        "\n"
      ],
      "metadata": {
        "id": "qg0eWNspwMbr"
      }
    },
    {
      "cell_type": "code",
      "source": [
        "j=0\n",
        "h=0\n",
        "n=0\n",
        "m=0\n",
        "cursos=0\n",
        "promedio=0\n",
        "#est=[f\"Estudiante {i}\"]\n",
        "#dict={\"Estudiante\":n, \"Notas\":m}\n",
        "i=1\n",
        "notas_n_es={\"Estudiante\":[i],\"Notas\":[i]}\n",
        "prom_es_tot={}\n",
        "prom_es={}\n",
        "while cursos<1:#Cambiar al final\n",
        "  cursos+=1\n",
        "  n=int(input(f\"Número estudiantes del curso {cursos}: \"))\n",
        "  m=int(input(f\"Número de notas del curso {cursos}: \"))\n",
        "  while h<n:\n",
        "    h+=1\n",
        "    print(\"Estudiante No. \",h)\n",
        "    for i in range (1,m+1):\n",
        "      \n",
        "      notas_n_es[\"Notas\"]=(input(f\"Nota {i}: \"))\n",
        "      promedio=notas_n_es[\"Notas\"]\n",
        "      \n",
        "      i+=1\n",
        "      \n",
        "  #prom_es[j]=promedio\n",
        "  j+=1\n",
        "notas_n_es\n",
        "\n"
      ],
      "metadata": {
        "colab": {
          "base_uri": "https://localhost:8080/"
        },
        "id": "3comVMKBwL3L",
        "outputId": "240bb453-d8fb-446a-bdcf-e3b37b8552e7"
      },
      "execution_count": null,
      "outputs": [
        {
          "name": "stdout",
          "output_type": "stream",
          "text": [
            "Número estudiantes del curso 1: 1\n",
            "Número de notas del curso 1: 2\n",
            "Estudiante No.  1\n",
            "Nota 1: 1\n",
            "Nota 2: 2\n"
          ]
        },
        {
          "output_type": "execute_result",
          "data": {
            "text/plain": [
              "{'Estudiante': [1], 'Notas': '2'}"
            ]
          },
          "metadata": {},
          "execution_count": 74
        }
      ]
    },
    {
      "cell_type": "code",
      "execution_count": null,
      "metadata": {
        "id": "iOxYnooUaRhz"
      },
      "outputs": [],
      "source": []
    }
  ]
}